{
  "nbformat": 4,
  "nbformat_minor": 0,
  "metadata": {
    "colab": {
      "provenance": [],
      "history_visible": true,
      "include_colab_link": true
    },
    "kernelspec": {
      "name": "python3",
      "display_name": "Python 3"
    },
    "language_info": {
      "name": "python"
    },
    "accelerator": "GPU",
    "gpuClass": "standard"
  },
  "cells": [
    {
      "cell_type": "markdown",
      "metadata": {
        "id": "view-in-github",
        "colab_type": "text"
      },
      "source": [
        "<a href=\"https://colab.research.google.com/github/yaba13/Vision-Based-American-Sign-Language-Recognition-SUST/blob/main/YOLOv7/Script/ASL_recognition_using_YOLOv7_model.ipynb\" target=\"_parent\"><img src=\"https://colab.research.google.com/assets/colab-badge.svg\" alt=\"Open In Colab\"/></a>"
      ]
    },
    {
      "cell_type": "code",
      "source": [
        "import pandas as pd\n",
        "import numpy as np\n",
        "import random\n",
        "import matplotlib.pyplot as plt\n",
        "from keras.utils import to_categorical"
      ],
      "metadata": {
        "id": "s_gSLwnzAhIe"
      },
      "execution_count": null,
      "outputs": []
    },
    {
      "cell_type": "code",
      "source": [
        "\n",
        "from keras.models import Sequential\n",
        "from keras.layers import Conv2D, MaxPooling2D, Dense, Flatten, Dropout"
      ],
      "metadata": {
        "id": "IJwJVquyAjJt"
      },
      "execution_count": null,
      "outputs": []
    },
    {
      "cell_type": "code",
      "source": [
        "#Define epochs for all models.\n",
        "epochs = 50\n",
        "\n",
        "train = pd.read_csv('/content/drive/MyDrive/ASL SSD/sign_mnist_train.csv')\n",
        "test = pd.read_csv('/content/drive/MyDrive/ASL SSD/sign_mnist_test.csv')"
      ],
      "metadata": {
        "id": "3p-k6TkjAkze"
      },
      "execution_count": null,
      "outputs": []
    },
    {
      "cell_type": "code",
      "source": [
        "\n",
        "#Datasets as numpy arrays\n",
        "train_data = np.array(train, dtype = 'float32')\n",
        "test_data = np.array(test, dtype='float32')"
      ],
      "metadata": {
        "id": "qz9J5WIsAr21"
      },
      "execution_count": null,
      "outputs": []
    },
    {
      "cell_type": "code",
      "source": [
        "\n",
        "\n",
        "#Define class labels for easy interpretation\n",
        "class_names = ['A', 'B', 'C', 'D', 'E', 'F', 'G', 'H', 'I', 'J', 'K', 'L', 'M', \n",
        "               'N', 'O', 'P', 'Q', 'R', 'S', 'T', 'U', 'V', 'W', 'X', 'Y' ]"
      ],
      "metadata": {
        "id": "Yej87nFwAuou"
      },
      "execution_count": null,
      "outputs": []
    },
    {
      "cell_type": "code",
      "source": [
        "\n",
        "#Sanity check - plot a few images and labels\n",
        "i = random.randint(1,train.shape[0])\n",
        "fig1, ax1 = plt.subplots(figsize=(2,2))\n",
        "plt.imshow(train_data[i,1:].reshape((28,28))) \n",
        "print(\"Label for the image is: \", class_names[int(train_data[i,0])])"
      ],
      "metadata": {
        "colab": {
          "base_uri": "https://localhost:8080/",
          "height": 176
        },
        "id": "seepBI9dAwYN",
        "outputId": "8ae0adba-4500-447e-ac64-ff92fea05621"
      },
      "execution_count": null,
      "outputs": [
        {
          "output_type": "stream",
          "name": "stdout",
          "text": [
            "Label for the image is:  N\n"
          ]
        },
        {
          "output_type": "display_data",
          "data": {
            "text/plain": [
              "<Figure size 144x144 with 1 Axes>"
            ],
            "image/png": "[encoded data removed]"
          },
          "metadata": {
            "needs_background": "light"
          }
        }
      ]
    },
    {
      "cell_type": "code",
      "source": [
        "\n",
        "# Data distribution visualization\n",
        "fig = plt.figure(figsize=(18,18))\n",
        "ax1 = fig.add_subplot(221)\n",
        "train['label'].value_counts().plot(kind='bar', ax=ax1)\n",
        "ax1.set_ylabel('Count')\n",
        "ax1.set_title('Label')"
      ],
      "metadata": {
        "colab": {
          "base_uri": "https://localhost:8080/",
          "height": 528
        },
        "id": "oSg9VPW7AzEV",
        "outputId": "a53b49e2-26f9-4b63-ed35-fd4bbdcc32d0"
      },
      "execution_count": null,
      "outputs": [
        {
          "output_type": "execute_result",
          "data": {
            "text/plain": [
              "Text(0.5, 1.0, 'Label')"
            ]
          },
          "metadata": {},
          "execution_count": 7
        },
        {
          "output_type": "display_data",
          "data": {
            "text/plain": [
              "<Figure size 1296x1296 with 1 Axes>"
            ],
            "image/png": "[encoded data removed]"
          },
          "metadata": {
            "needs_background": "light"
          }
        }
      ]
    },
    {
      "cell_type": "code",
      "source": [
        "\n",
        "#Dataset seems to be fairly balanced.\n",
        "\n",
        "#Normalize / scale X values\n",
        "X_train = train_data[:, 1:] /255.\n",
        "X_test = test_data[:, 1:] /255."
      ],
      "metadata": {
        "id": "mEXg3kkNA0nV"
      },
      "execution_count": null,
      "outputs": []
    },
    {
      "cell_type": "code",
      "source": [
        "\n",
        "#Convert y to categorical if planning on using categorical cross entropy\n",
        "#No need to do this if using sparse categorical cross entropy\n",
        "y_train = train_data[:, 0]\n",
        "y_train_cat = to_categorical(y_train, num_classes=25)\n",
        "\n",
        "y_test = test_data[:,0]\n",
        "y_test_cat = to_categorical(y_test, num_classes=25)"
      ],
      "metadata": {
        "id": "wtmzzR0vA28d"
      },
      "execution_count": null,
      "outputs": []
    },
    {
      "cell_type": "code",
      "source": [
        "\n",
        "#Reshape for the neural network\n",
        "X_train = X_train.reshape(X_train.shape[0], *(28, 28, 1))\n",
        "X_test = X_test.reshape(X_test.shape[0], *(28, 28, 1))"
      ],
      "metadata": {
        "id": "NztuAwErA4pd"
      },
      "execution_count": null,
      "outputs": []
    },
    {
      "cell_type": "code",
      "source": [
        "\n",
        "\n",
        "\n",
        "#########################################################\n",
        "#Model 1\n",
        "\n",
        "#Defining the Convolutional Neural Network\n",
        "model1 = Sequential()\n",
        "\n",
        "model1.add(Conv2D(32, (3, 3), input_shape = (28,28,1), activation='relu'))\n",
        "model1.add(MaxPooling2D(pool_size = (2, 2)))\n",
        "model1.add(Dropout(0.2))\n",
        "\n",
        "model1.add(Conv2D(64, (3, 3), activation='relu'))\n",
        "model1.add(MaxPooling2D(pool_size = (2, 2)))\n",
        "model1.add(Dropout(0.2))\n",
        "\n",
        "model1.add(Conv2D(128, (3, 3), activation='relu'))\n",
        "model1.add(MaxPooling2D(pool_size = (2, 2)))\n",
        "model1.add(Dropout(0.2))\n",
        "\n",
        "model1.add(Flatten())\n",
        "\n",
        "model1.add(Dense(128, activation = 'relu'))\n",
        "model1.add(Dense(25, activation = 'softmax'))"
      ],
      "metadata": {
        "id": "KSEUKfQXA7j9"
      },
      "execution_count": null,
      "outputs": []
    },
    {
      "cell_type": "code",
      "source": [
        "#If your targets are one-hot encoded, use categorical_crossentropy. Examples of one-hot encodings:\n",
        "# If your targets are integers, use sparse_categorical_crossentropy. \n",
        "\n",
        "#model1.compile(loss ='sparse_categorical_crossentropy', optimizer='adam', metrics =['acc'])\n",
        "model1.compile(loss ='categorical_crossentropy', optimizer='adam',metrics =['acc'])\n",
        "model1.summary()"
      ],
      "metadata": {
        "colab": {
          "base_uri": "https://localhost:8080/"
        },
        "id": "LzeYDaggA96N",
        "outputId": "8fdf074e-7422-4320-88cb-bab1a2c2436a"
      },
      "execution_count": null,
      "outputs": [
        {
          "output_type": "stream",
          "name": "stdout",
          "text": [
            "Model: \"sequential\"\n",
            "_________________________________________________________________\n",
            " Layer (type)                Output Shape              Param #   \n",
            "=================================================================\n",
            " conv2d (Conv2D)             (None, 26, 26, 32)        320       \n",
            "                                                                 \n",
            " max_pooling2d (MaxPooling2D  (None, 13, 13, 32)       0         \n",
            " )                                                               \n",
            "                                                                 \n",
            " dropout (Dropout)           (None, 13, 13, 32)        0         \n",
            "                                                                 \n",
            " conv2d_1 (Conv2D)           (None, 11, 11, 64)        18496     \n",
            "                                                                 \n",
            " max_pooling2d_1 (MaxPooling  (None, 5, 5, 64)         0         \n",
            " 2D)                                                             \n",
            "                                                                 \n",
            " dropout_1 (Dropout)         (None, 5, 5, 64)          0         \n",
            "                                                                 \n",
            " conv2d_2 (Conv2D)           (None, 3, 3, 128)         73856     \n",
            "                                                                 \n",
            " max_pooling2d_2 (MaxPooling  (None, 1, 1, 128)        0         \n",
            " 2D)                                                             \n",
            "                                                                 \n",
            " dropout_2 (Dropout)         (None, 1, 1, 128)         0         \n",
            "                                                                 \n",
            " flatten (Flatten)           (None, 128)               0         \n",
            "                                                                 \n",
            " dense (Dense)               (None, 128)               16512     \n",
            "                                                                 \n",
            " dense_1 (Dense)             (None, 25)                3225      \n",
            "                                                                 \n",
            "=================================================================\n",
            "Total params: 112,409\n",
            "Trainable params: 112,409\n",
            "Non-trainable params: 0\n",
            "_________________________________________________________________\n"
          ]
        }
      ]
    },
    {
      "cell_type": "code",
      "source": [
        "#Training the CNN model1\n",
        "#history = model1.fit(X_train, y_train, batch_size = 128, epochs = 10, verbose = 1, validation_data = (X_test, y_test))\n",
        "history1 = model1.fit(X_train, y_train_cat, batch_size = 128, epochs = epochs, verbose = 1, validation_data = (X_test, y_test_cat))\n",
        "\n",
        "model1.save('saved_models/model1.hdf5')\n"
      ],
      "metadata": {
        "colab": {
          "base_uri": "https://localhost:8080/"
        },
        "id": "1WY0SeFcBxtN",
        "outputId": "66a7ab70-e231-4acc-c1cc-411b01433476"
      },
      "execution_count": null,
      "outputs": [
        {
          "output_type": "stream",
          "name": "stdout",
          "text": [
            "Epoch 1/50\n",
            "215/215 [==============================] - 15s 13ms/step - loss: 2.5233 - acc: 0.2250 - val_loss: 1.4410 - val_acc: 0.5369\n",
            "Epoch 2/50\n",
            "215/215 [==============================] - 2s 9ms/step - loss: 1.0296 - acc: 0.6545 - val_loss: 0.7106 - val_acc: 0.7312\n",
            "Epoch 3/50\n",
            "215/215 [==============================] - 2s 7ms/step - loss: 0.5625 - acc: 0.8104 - val_loss: 0.4378 - val_acc: 0.8486\n",
            "Epoch 4/50\n",
            "215/215 [==============================] - 2s 7ms/step - loss: 0.3627 - acc: 0.8796 - val_loss: 0.3749 - val_acc: 0.8719\n",
            "Epoch 5/50\n",
            "215/215 [==============================] - 2s 7ms/step - loss: 0.2450 - acc: 0.9205 - val_loss: 0.2706 - val_acc: 0.9129\n",
            "Epoch 6/50\n",
            "215/215 [==============================] - 2s 7ms/step - loss: 0.1735 - acc: 0.9435 - val_loss: 0.2682 - val_acc: 0.9064\n",
            "Epoch 7/50\n",
            "215/215 [==============================] - 1s 7ms/step - loss: 0.1330 - acc: 0.9575 - val_loss: 0.2379 - val_acc: 0.9173\n",
            "Epoch 8/50\n",
            "215/215 [==============================] - 2s 7ms/step - loss: 0.1051 - acc: 0.9676 - val_loss: 0.2210 - val_acc: 0.9261\n",
            "Epoch 9/50\n",
            "215/215 [==============================] - 1s 7ms/step - loss: 0.0822 - acc: 0.9743 - val_loss: 0.2124 - val_acc: 0.9306\n",
            "Epoch 10/50\n",
            "215/215 [==============================] - 1s 7ms/step - loss: 0.0644 - acc: 0.9808 - val_loss: 0.1995 - val_acc: 0.9307\n",
            "Epoch 11/50\n",
            "215/215 [==============================] - 2s 7ms/step - loss: 0.0549 - acc: 0.9834 - val_loss: 0.2136 - val_acc: 0.9297\n",
            "Epoch 12/50\n",
            "215/215 [==============================] - 2s 7ms/step - loss: 0.0496 - acc: 0.9850 - val_loss: 0.2216 - val_acc: 0.9327\n",
            "Epoch 13/50\n",
            "215/215 [==============================] - 2s 7ms/step - loss: 0.0425 - acc: 0.9864 - val_loss: 0.2091 - val_acc: 0.9356\n",
            "Epoch 14/50\n",
            "215/215 [==============================] - 1s 7ms/step - loss: 0.0406 - acc: 0.9875 - val_loss: 0.1903 - val_acc: 0.9437\n",
            "Epoch 15/50\n",
            "215/215 [==============================] - 1s 6ms/step - loss: 0.0346 - acc: 0.9895 - val_loss: 0.1985 - val_acc: 0.9445\n",
            "Epoch 16/50\n",
            "215/215 [==============================] - 2s 7ms/step - loss: 0.0320 - acc: 0.9907 - val_loss: 0.2019 - val_acc: 0.9406\n",
            "Epoch 17/50\n",
            "215/215 [==============================] - 2s 7ms/step - loss: 0.0282 - acc: 0.9914 - val_loss: 0.1861 - val_acc: 0.9371\n",
            "Epoch 18/50\n",
            "215/215 [==============================] - 2s 7ms/step - loss: 0.0296 - acc: 0.9906 - val_loss: 0.1884 - val_acc: 0.9426\n",
            "Epoch 19/50\n",
            "215/215 [==============================] - 2s 7ms/step - loss: 0.0248 - acc: 0.9929 - val_loss: 0.2018 - val_acc: 0.9417\n",
            "Epoch 20/50\n",
            "215/215 [==============================] - 1s 6ms/step - loss: 0.0219 - acc: 0.9933 - val_loss: 0.1842 - val_acc: 0.9525\n",
            "Epoch 21/50\n",
            "215/215 [==============================] - 2s 7ms/step - loss: 0.0238 - acc: 0.9922 - val_loss: 0.1837 - val_acc: 0.9495\n",
            "Epoch 22/50\n",
            "215/215 [==============================] - 1s 6ms/step - loss: 0.0192 - acc: 0.9947 - val_loss: 0.1886 - val_acc: 0.9473\n",
            "Epoch 23/50\n",
            "215/215 [==============================] - 1s 6ms/step - loss: 0.0191 - acc: 0.9947 - val_loss: 0.2024 - val_acc: 0.9490\n",
            "Epoch 24/50\n",
            "215/215 [==============================] - 1s 7ms/step - loss: 0.0172 - acc: 0.9945 - val_loss: 0.2277 - val_acc: 0.9491\n",
            "Epoch 25/50\n",
            "215/215 [==============================] - 2s 7ms/step - loss: 0.0175 - acc: 0.9943 - val_loss: 0.2240 - val_acc: 0.9445\n",
            "Epoch 26/50\n",
            "215/215 [==============================] - 1s 7ms/step - loss: 0.0175 - acc: 0.9948 - val_loss: 0.2662 - val_acc: 0.9350\n",
            "Epoch 27/50\n",
            "215/215 [==============================] - 1s 7ms/step - loss: 0.0196 - acc: 0.9931 - val_loss: 0.2343 - val_acc: 0.9366\n",
            "Epoch 28/50\n",
            "215/215 [==============================] - 1s 7ms/step - loss: 0.0140 - acc: 0.9958 - val_loss: 0.1847 - val_acc: 0.9508\n",
            "Epoch 29/50\n",
            "215/215 [==============================] - 2s 7ms/step - loss: 0.0140 - acc: 0.9954 - val_loss: 0.2197 - val_acc: 0.9476\n",
            "Epoch 30/50\n",
            "215/215 [==============================] - 1s 7ms/step - loss: 0.0143 - acc: 0.9958 - val_loss: 0.1858 - val_acc: 0.9502\n",
            "Epoch 31/50\n",
            "215/215 [==============================] - 2s 7ms/step - loss: 0.0121 - acc: 0.9964 - val_loss: 0.2053 - val_acc: 0.9481\n",
            "Epoch 32/50\n",
            "215/215 [==============================] - 2s 7ms/step - loss: 0.0153 - acc: 0.9953 - val_loss: 0.1330 - val_acc: 0.9598\n",
            "Epoch 33/50\n",
            "215/215 [==============================] - 1s 7ms/step - loss: 0.0162 - acc: 0.9952 - val_loss: 0.2010 - val_acc: 0.9488\n",
            "Epoch 34/50\n",
            "215/215 [==============================] - 1s 7ms/step - loss: 0.0132 - acc: 0.9959 - val_loss: 0.1911 - val_acc: 0.9530\n",
            "Epoch 35/50\n",
            "215/215 [==============================] - 1s 6ms/step - loss: 0.0127 - acc: 0.9960 - val_loss: 0.1915 - val_acc: 0.9512\n",
            "Epoch 36/50\n",
            "215/215 [==============================] - 2s 7ms/step - loss: 0.0135 - acc: 0.9958 - val_loss: 0.1863 - val_acc: 0.9509\n",
            "Epoch 37/50\n",
            "215/215 [==============================] - 2s 7ms/step - loss: 0.0104 - acc: 0.9969 - val_loss: 0.1654 - val_acc: 0.9537\n",
            "Epoch 38/50\n",
            "215/215 [==============================] - 2s 7ms/step - loss: 0.0151 - acc: 0.9951 - val_loss: 0.2049 - val_acc: 0.9499\n",
            "Epoch 39/50\n",
            "215/215 [==============================] - 1s 6ms/step - loss: 0.0111 - acc: 0.9966 - val_loss: 0.1534 - val_acc: 0.9600\n",
            "Epoch 40/50\n",
            "215/215 [==============================] - 2s 7ms/step - loss: 0.0100 - acc: 0.9969 - val_loss: 0.1797 - val_acc: 0.9518\n",
            "Epoch 41/50\n",
            "215/215 [==============================] - 1s 6ms/step - loss: 0.0098 - acc: 0.9968 - val_loss: 0.1554 - val_acc: 0.9624\n",
            "Epoch 42/50\n",
            "215/215 [==============================] - 1s 6ms/step - loss: 0.0147 - acc: 0.9955 - val_loss: 0.1667 - val_acc: 0.9561\n",
            "Epoch 43/50\n",
            "215/215 [==============================] - 1s 6ms/step - loss: 0.0104 - acc: 0.9967 - val_loss: 0.1711 - val_acc: 0.9582\n",
            "Epoch 44/50\n",
            "215/215 [==============================] - 1s 7ms/step - loss: 0.0073 - acc: 0.9976 - val_loss: 0.1954 - val_acc: 0.9562\n",
            "Epoch 45/50\n",
            "215/215 [==============================] - 2s 7ms/step - loss: 0.0087 - acc: 0.9971 - val_loss: 0.1750 - val_acc: 0.9597\n",
            "Epoch 46/50\n",
            "215/215 [==============================] - 2s 9ms/step - loss: 0.0073 - acc: 0.9979 - val_loss: 0.2050 - val_acc: 0.9554\n",
            "Epoch 47/50\n",
            "215/215 [==============================] - 2s 9ms/step - loss: 0.0133 - acc: 0.9960 - val_loss: 0.2317 - val_acc: 0.9561\n",
            "Epoch 48/50\n",
            "215/215 [==============================] - 2s 7ms/step - loss: 0.0114 - acc: 0.9962 - val_loss: 0.2133 - val_acc: 0.9515\n",
            "Epoch 49/50\n",
            "215/215 [==============================] - 1s 6ms/step - loss: 0.0126 - acc: 0.9959 - val_loss: 0.1996 - val_acc: 0.9497\n",
            "Epoch 50/50\n",
            "215/215 [==============================] - 2s 7ms/step - loss: 0.0119 - acc: 0.9969 - val_loss: 0.1945 - val_acc: 0.9536\n"
          ]
        }
      ]
    },
    {
      "cell_type": "code",
      "source": [
        "##########################################################\n",
        "#Model2\n",
        "\n",
        "model2 = Sequential()\n",
        "\n",
        "model2.add(Conv2D(32, (3, 3), input_shape = (28,28,1), activation='relu'))\n",
        "model2.add(Conv2D(32, (3, 3), activation='relu'))\n",
        "model2.add(MaxPooling2D(pool_size = (2, 2)))\n",
        "\n",
        "model2.add(Conv2D(64, (3, 3), activation='relu'))\n",
        "model2.add(Conv2D(64, (3, 3), activation='relu'))\n",
        "model2.add(Conv2D(64, (3, 3), activation='relu'))\n",
        "model2.add(MaxPooling2D(pool_size = (2, 2)))\n",
        "\n",
        "model2.add(Conv2D(128, (3, 3), activation='relu'))\n",
        "model2.add(Conv2D(25, (1,1)))\n",
        "\n",
        "model2.add(Flatten())\n",
        "\n",
        "model2.add(Dense(25, activation = 'softmax'))\n",
        "\n",
        "model2.compile(loss ='categorical_crossentropy', optimizer='adam',metrics =['acc'])\n",
        "model2.summary()\n",
        "\n",
        "history2 = model2.fit(X_train, y_train_cat, batch_size = 128, epochs = epochs, verbose = 1, validation_data = (X_test, y_test_cat))\n",
        "\n",
        "model2.save('saved_models/model2.hdf5')"
      ],
      "metadata": {
        "colab": {
          "base_uri": "https://localhost:8080/"
        },
        "id": "ZVI2XnGxB60t",
        "outputId": "63fa79c3-cc4a-41b4-a004-66e88432bf9c"
      },
      "execution_count": null,
      "outputs": [
        {
          "output_type": "stream",
          "name": "stdout",
          "text": [
            "Model: \"sequential_1\"\n",
            "_________________________________________________________________\n",
            " Layer (type)                Output Shape              Param #   \n",
            "=================================================================\n",
            " conv2d_3 (Conv2D)           (None, 26, 26, 32)        320       \n",
            "                                                                 \n",
            " conv2d_4 (Conv2D)           (None, 24, 24, 32)        9248      \n",
            "                                                                 \n",
            " max_pooling2d_3 (MaxPooling  (None, 12, 12, 32)       0         \n",
            " 2D)                                                             \n",
            "                                                                 \n",
            " conv2d_5 (Conv2D)           (None, 10, 10, 64)        18496     \n",
            "                                                                 \n",
            " conv2d_6 (Conv2D)           (None, 8, 8, 64)          36928     \n",
            "                                                                 \n",
            " conv2d_7 (Conv2D)           (None, 6, 6, 64)          36928     \n",
            "                                                                 \n",
            " max_pooling2d_4 (MaxPooling  (None, 3, 3, 64)         0         \n",
            " 2D)                                                             \n",
            "                                                                 \n",
            " conv2d_8 (Conv2D)           (None, 1, 1, 128)         73856     \n",
            "                                                                 \n",
            " conv2d_9 (Conv2D)           (None, 1, 1, 25)          3225      \n",
            "                                                                 \n",
            " flatten_1 (Flatten)         (None, 25)                0         \n",
            "                                                                 \n",
            " dense_2 (Dense)             (None, 25)                650       \n",
            "                                                                 \n",
            "=================================================================\n",
            "Total params: 179,651\n",
            "Trainable params: 179,651\n",
            "Non-trainable params: 0\n",
            "_________________________________________________________________\n",
            "Epoch 1/50\n",
            "215/215 [==============================] - 3s 11ms/step - loss: 1.5092 - acc: 0.5323 - val_loss: 0.9161 - val_acc: 0.7230\n",
            "Epoch 2/50\n",
            "215/215 [==============================] - 2s 9ms/step - loss: 0.1772 - acc: 0.9407 - val_loss: 0.6736 - val_acc: 0.8429\n",
            "Epoch 3/50\n",
            "215/215 [==============================] - 2s 10ms/step - loss: 0.0574 - acc: 0.9827 - val_loss: 0.5683 - val_acc: 0.8681\n",
            "Epoch 4/50\n",
            "215/215 [==============================] - 2s 9ms/step - loss: 0.0018 - acc: 1.0000 - val_loss: 0.6312 - val_acc: 0.8720\n",
            "Epoch 5/50\n",
            "215/215 [==============================] - 2s 9ms/step - loss: 6.3479e-04 - acc: 1.0000 - val_loss: 0.6706 - val_acc: 0.8707\n",
            "Epoch 6/50\n",
            "215/215 [==============================] - 2s 10ms/step - loss: 3.4388e-04 - acc: 1.0000 - val_loss: 0.7084 - val_acc: 0.8730\n",
            "Epoch 7/50\n",
            "215/215 [==============================] - 2s 10ms/step - loss: 2.3603e-04 - acc: 1.0000 - val_loss: 0.7498 - val_acc: 0.8660\n",
            "Epoch 8/50\n",
            "215/215 [==============================] - 2s 9ms/step - loss: 0.3520 - acc: 0.9210 - val_loss: 0.6412 - val_acc: 0.8696\n",
            "Epoch 9/50\n",
            "215/215 [==============================] - 2s 9ms/step - loss: 0.0105 - acc: 0.9979 - val_loss: 0.5512 - val_acc: 0.8922\n",
            "Epoch 10/50\n",
            "215/215 [==============================] - 2s 9ms/step - loss: 6.1289e-04 - acc: 1.0000 - val_loss: 0.5851 - val_acc: 0.8954\n",
            "Epoch 11/50\n",
            "215/215 [==============================] - 2s 9ms/step - loss: 3.3267e-04 - acc: 1.0000 - val_loss: 0.6067 - val_acc: 0.8961\n",
            "Epoch 12/50\n",
            "215/215 [==============================] - 2s 9ms/step - loss: 1.9992e-04 - acc: 1.0000 - val_loss: 0.6198 - val_acc: 0.8954\n",
            "Epoch 13/50\n",
            "215/215 [==============================] - 2s 9ms/step - loss: 1.3187e-04 - acc: 1.0000 - val_loss: 0.6482 - val_acc: 0.8970\n",
            "Epoch 14/50\n",
            "215/215 [==============================] - 2s 9ms/step - loss: 9.2010e-05 - acc: 1.0000 - val_loss: 0.6809 - val_acc: 0.8967\n",
            "Epoch 15/50\n",
            "215/215 [==============================] - 2s 9ms/step - loss: 6.3988e-05 - acc: 1.0000 - val_loss: 0.7025 - val_acc: 0.8979\n",
            "Epoch 16/50\n",
            "215/215 [==============================] - 2s 9ms/step - loss: 4.6863e-05 - acc: 1.0000 - val_loss: 0.7145 - val_acc: 0.8971\n",
            "Epoch 17/50\n",
            "215/215 [==============================] - 2s 10ms/step - loss: 3.8850e-05 - acc: 1.0000 - val_loss: 0.7347 - val_acc: 0.8961\n",
            "Epoch 18/50\n",
            "215/215 [==============================] - 2s 10ms/step - loss: 2.9332e-05 - acc: 1.0000 - val_loss: 0.7494 - val_acc: 0.8967\n",
            "Epoch 19/50\n",
            "215/215 [==============================] - 2s 10ms/step - loss: 2.3785e-05 - acc: 1.0000 - val_loss: 0.7636 - val_acc: 0.8960\n",
            "Epoch 20/50\n",
            "215/215 [==============================] - 2s 9ms/step - loss: 1.9884e-05 - acc: 1.0000 - val_loss: 0.7835 - val_acc: 0.8951\n",
            "Epoch 21/50\n",
            "215/215 [==============================] - 2s 9ms/step - loss: 1.6712e-05 - acc: 1.0000 - val_loss: 0.7901 - val_acc: 0.8953\n",
            "Epoch 22/50\n",
            "215/215 [==============================] - 2s 10ms/step - loss: 1.3837e-05 - acc: 1.0000 - val_loss: 0.8075 - val_acc: 0.8950\n",
            "Epoch 23/50\n",
            "215/215 [==============================] - 2s 9ms/step - loss: 1.1968e-05 - acc: 1.0000 - val_loss: 0.8167 - val_acc: 0.8960\n",
            "Epoch 24/50\n",
            "215/215 [==============================] - 2s 10ms/step - loss: 9.9418e-06 - acc: 1.0000 - val_loss: 0.8332 - val_acc: 0.8943\n",
            "Epoch 25/50\n",
            "215/215 [==============================] - 2s 12ms/step - loss: 8.2829e-06 - acc: 1.0000 - val_loss: 0.8491 - val_acc: 0.8939\n",
            "Epoch 26/50\n",
            "215/215 [==============================] - 2s 10ms/step - loss: 7.0044e-06 - acc: 1.0000 - val_loss: 0.8660 - val_acc: 0.8942\n",
            "Epoch 27/50\n",
            "215/215 [==============================] - 2s 9ms/step - loss: 6.0365e-06 - acc: 1.0000 - val_loss: 0.8758 - val_acc: 0.8924\n",
            "Epoch 28/50\n",
            "215/215 [==============================] - 2s 9ms/step - loss: 5.2291e-06 - acc: 1.0000 - val_loss: 0.8880 - val_acc: 0.8929\n",
            "Epoch 29/50\n",
            "215/215 [==============================] - 2s 9ms/step - loss: 4.3274e-06 - acc: 1.0000 - val_loss: 0.9029 - val_acc: 0.8932\n",
            "Epoch 30/50\n",
            "215/215 [==============================] - 2s 9ms/step - loss: 3.6236e-06 - acc: 1.0000 - val_loss: 0.9161 - val_acc: 0.8919\n",
            "Epoch 31/50\n",
            "215/215 [==============================] - 2s 10ms/step - loss: 3.1980e-06 - acc: 1.0000 - val_loss: 0.9274 - val_acc: 0.8940\n",
            "Epoch 32/50\n",
            "215/215 [==============================] - 2s 9ms/step - loss: 2.7198e-06 - acc: 1.0000 - val_loss: 0.9448 - val_acc: 0.8926\n",
            "Epoch 33/50\n",
            "215/215 [==============================] - 2s 10ms/step - loss: 2.3690e-06 - acc: 1.0000 - val_loss: 0.9603 - val_acc: 0.8921\n",
            "Epoch 34/50\n",
            "215/215 [==============================] - 2s 10ms/step - loss: 2.0748e-06 - acc: 1.0000 - val_loss: 0.9649 - val_acc: 0.8915\n",
            "Epoch 35/50\n",
            "215/215 [==============================] - 2s 9ms/step - loss: 1.7521e-06 - acc: 1.0000 - val_loss: 0.9839 - val_acc: 0.8914\n",
            "Epoch 36/50\n",
            "215/215 [==============================] - 2s 10ms/step - loss: 1.5475e-06 - acc: 1.0000 - val_loss: 0.9866 - val_acc: 0.8919\n",
            "Epoch 37/50\n",
            "215/215 [==============================] - 2s 10ms/step - loss: 1.3129e-06 - acc: 1.0000 - val_loss: 1.0102 - val_acc: 0.8915\n",
            "Epoch 38/50\n",
            "215/215 [==============================] - 2s 11ms/step - loss: 1.1714e-06 - acc: 1.0000 - val_loss: 1.0119 - val_acc: 0.8919\n",
            "Epoch 39/50\n",
            "215/215 [==============================] - 2s 10ms/step - loss: 1.0037e-06 - acc: 1.0000 - val_loss: 1.0302 - val_acc: 0.8915\n",
            "Epoch 40/50\n",
            "215/215 [==============================] - 2s 9ms/step - loss: 8.7392e-07 - acc: 1.0000 - val_loss: 1.0378 - val_acc: 0.8910\n",
            "Epoch 41/50\n",
            "215/215 [==============================] - 2s 9ms/step - loss: 7.6903e-07 - acc: 1.0000 - val_loss: 1.0441 - val_acc: 0.8912\n",
            "Epoch 42/50\n",
            "215/215 [==============================] - 2s 9ms/step - loss: 6.5670e-07 - acc: 1.0000 - val_loss: 1.0559 - val_acc: 0.8914\n",
            "Epoch 43/50\n",
            "215/215 [==============================] - 2s 9ms/step - loss: 5.8328e-07 - acc: 1.0000 - val_loss: 1.0733 - val_acc: 0.8919\n",
            "Epoch 44/50\n",
            "215/215 [==============================] - 2s 9ms/step - loss: 5.0755e-07 - acc: 1.0000 - val_loss: 1.0856 - val_acc: 0.8911\n",
            "Epoch 45/50\n",
            "215/215 [==============================] - 2s 9ms/step - loss: 4.3501e-07 - acc: 1.0000 - val_loss: 1.0896 - val_acc: 0.8907\n",
            "Epoch 46/50\n",
            "215/215 [==============================] - 2s 9ms/step - loss: 3.8894e-07 - acc: 1.0000 - val_loss: 1.1081 - val_acc: 0.8914\n",
            "Epoch 47/50\n",
            "215/215 [==============================] - 2s 10ms/step - loss: 3.3503e-07 - acc: 1.0000 - val_loss: 1.1127 - val_acc: 0.8922\n",
            "Epoch 48/50\n",
            "215/215 [==============================] - 2s 10ms/step - loss: 2.9269e-07 - acc: 1.0000 - val_loss: 1.1233 - val_acc: 0.8919\n",
            "Epoch 49/50\n",
            "215/215 [==============================] - 2s 9ms/step - loss: 2.5637e-07 - acc: 1.0000 - val_loss: 1.1361 - val_acc: 0.8915\n",
            "Epoch 50/50\n",
            "215/215 [==============================] - 2s 9ms/step - loss: 2.2306e-07 - acc: 1.0000 - val_loss: 1.1527 - val_acc: 0.8914\n"
          ]
        }
      ]
    },
    {
      "cell_type": "code",
      "source": [
        "###################################################################\n",
        "#Model 3\n",
        "#\n",
        "model3 = Sequential()\n",
        "\n",
        "model3.add(Conv2D(32, (3, 3), input_shape = (28,28,1), activation='relu'))\n",
        "model3.add(MaxPooling2D(pool_size = (2, 2)))\n",
        "model3.add(Dropout(0.2))\n",
        "\n",
        "model3.add(Conv2D(64, (3, 3), activation='relu'))\n",
        "model3.add(MaxPooling2D(pool_size = (2, 2)))\n",
        "model3.add(Dropout(0.2))\n",
        "\n",
        "model3.add(Flatten())\n",
        "\n",
        "model3.add(Dense(25, activation = 'softmax'))\n"
      ],
      "metadata": {
        "id": "WT-C-KuwCCVF"
      },
      "execution_count": null,
      "outputs": []
    },
    {
      "cell_type": "code",
      "source": [
        "#If your targets are one-hot encoded, use categorical_crossentropy. Examples of one-hot encodings:\n",
        "# If your targets are integers, use sparse_categorical_crossentropy. \n",
        "\n",
        "#model1.compile(loss ='sparse_categorical_crossentropy', optimizer='adam', metrics =['acc'])\n",
        "model3.compile(loss ='categorical_crossentropy', optimizer='adam',metrics =['acc'])\n",
        "model3.summary()"
      ],
      "metadata": {
        "id": "1d68Sv2bCEnt",
        "colab": {
          "base_uri": "https://localhost:8080/"
        },
        "outputId": "78bc5bdc-deaf-4a4e-ab78-fdac06698c14"
      },
      "execution_count": null,
      "outputs": [
        {
          "output_type": "stream",
          "name": "stdout",
          "text": [
            "Model: \"sequential_2\"\n",
            "_________________________________________________________________\n",
            " Layer (type)                Output Shape              Param #   \n",
            "=================================================================\n",
            " conv2d_10 (Conv2D)          (None, 26, 26, 32)        320       \n",
            "                                                                 \n",
            " max_pooling2d_5 (MaxPooling  (None, 13, 13, 32)       0         \n",
            " 2D)                                                             \n",
            "                                                                 \n",
            " dropout_3 (Dropout)         (None, 13, 13, 32)        0         \n",
            "                                                                 \n",
            " conv2d_11 (Conv2D)          (None, 11, 11, 64)        18496     \n",
            "                                                                 \n",
            " max_pooling2d_6 (MaxPooling  (None, 5, 5, 64)         0         \n",
            " 2D)                                                             \n",
            "                                                                 \n",
            " dropout_4 (Dropout)         (None, 5, 5, 64)          0         \n",
            "                                                                 \n",
            " flatten_2 (Flatten)         (None, 1600)              0         \n",
            "                                                                 \n",
            " dense_3 (Dense)             (None, 25)                40025     \n",
            "                                                                 \n",
            "=================================================================\n",
            "Total params: 58,841\n",
            "Trainable params: 58,841\n",
            "Non-trainable params: 0\n",
            "_________________________________________________________________\n"
          ]
        }
      ]
    },
    {
      "cell_type": "code",
      "source": [
        "\n",
        "#Training the CNN model1\n",
        "#history = model1.fit(X_train, y_train, batch_size = 128, epochs = 10, verbose = 1, validation_data = (X_test, y_test))\n",
        "history3 = model3.fit(X_train, y_train_cat, batch_size = 128, epochs = epochs, verbose = 1, validation_data = (X_test, y_test_cat))\n",
        "\n",
        "model3.save('saved_models/model3.hdf5')"
      ],
      "metadata": {
        "id": "TIEle0OTCHit",
        "colab": {
          "base_uri": "https://localhost:8080/"
        },
        "outputId": "a3ebbb3b-29fb-4828-bdef-2e5c7064e72c"
      },
      "execution_count": null,
      "outputs": [
        {
          "output_type": "stream",
          "name": "stdout",
          "text": [
            "Epoch 1/50\n",
            "215/215 [==============================] - 2s 7ms/step - loss: 2.0087 - acc: 0.4120 - val_loss: 1.0715 - val_acc: 0.6997\n",
            "Epoch 2/50\n",
            "215/215 [==============================] - 1s 7ms/step - loss: 0.5877 - acc: 0.8201 - val_loss: 0.5683 - val_acc: 0.8232\n",
            "Epoch 3/50\n",
            "215/215 [==============================] - 1s 7ms/step - loss: 0.2594 - acc: 0.9238 - val_loss: 0.4273 - val_acc: 0.8649\n",
            "Epoch 4/50\n",
            "215/215 [==============================] - 1s 7ms/step - loss: 0.1385 - acc: 0.9627 - val_loss: 0.3433 - val_acc: 0.8995\n",
            "Epoch 5/50\n",
            "215/215 [==============================] - 1s 6ms/step - loss: 0.0832 - acc: 0.9798 - val_loss: 0.2902 - val_acc: 0.9250\n",
            "Epoch 6/50\n",
            "215/215 [==============================] - 1s 6ms/step - loss: 0.0541 - acc: 0.9879 - val_loss: 0.2889 - val_acc: 0.9235\n",
            "Epoch 7/50\n",
            "215/215 [==============================] - 1s 7ms/step - loss: 0.0407 - acc: 0.9904 - val_loss: 0.2861 - val_acc: 0.9260\n",
            "Epoch 8/50\n",
            "215/215 [==============================] - 1s 6ms/step - loss: 0.0294 - acc: 0.9940 - val_loss: 0.2889 - val_acc: 0.9334\n",
            "Epoch 9/50\n",
            "215/215 [==============================] - 1s 6ms/step - loss: 0.0226 - acc: 0.9954 - val_loss: 0.2870 - val_acc: 0.9307\n",
            "Epoch 10/50\n",
            "215/215 [==============================] - 1s 6ms/step - loss: 0.0190 - acc: 0.9960 - val_loss: 0.2820 - val_acc: 0.9371\n",
            "Epoch 11/50\n",
            "215/215 [==============================] - 1s 7ms/step - loss: 0.0149 - acc: 0.9973 - val_loss: 0.2885 - val_acc: 0.9349\n",
            "Epoch 12/50\n",
            "215/215 [==============================] - 1s 7ms/step - loss: 0.0129 - acc: 0.9976 - val_loss: 0.2768 - val_acc: 0.9417\n",
            "Epoch 13/50\n",
            "215/215 [==============================] - 1s 6ms/step - loss: 0.0104 - acc: 0.9983 - val_loss: 0.2885 - val_acc: 0.9272\n",
            "Epoch 14/50\n",
            "215/215 [==============================] - 1s 6ms/step - loss: 0.0094 - acc: 0.9984 - val_loss: 0.2888 - val_acc: 0.9345\n",
            "Epoch 15/50\n",
            "215/215 [==============================] - 1s 6ms/step - loss: 0.0079 - acc: 0.9986 - val_loss: 0.2928 - val_acc: 0.9364\n",
            "Epoch 16/50\n",
            "215/215 [==============================] - 1s 6ms/step - loss: 0.0078 - acc: 0.9983 - val_loss: 0.3164 - val_acc: 0.9350\n",
            "Epoch 17/50\n",
            "215/215 [==============================] - 1s 6ms/step - loss: 0.0064 - acc: 0.9988 - val_loss: 0.2812 - val_acc: 0.9310\n",
            "Epoch 18/50\n",
            "215/215 [==============================] - 1s 6ms/step - loss: 0.0062 - acc: 0.9985 - val_loss: 0.2864 - val_acc: 0.9359\n",
            "Epoch 19/50\n",
            "215/215 [==============================] - 1s 7ms/step - loss: 0.0048 - acc: 0.9991 - val_loss: 0.3120 - val_acc: 0.9338\n",
            "Epoch 20/50\n",
            "215/215 [==============================] - 1s 6ms/step - loss: 0.0062 - acc: 0.9987 - val_loss: 0.3188 - val_acc: 0.9289\n",
            "Epoch 21/50\n",
            "215/215 [==============================] - 1s 7ms/step - loss: 0.0039 - acc: 0.9993 - val_loss: 0.3078 - val_acc: 0.9340\n",
            "Epoch 22/50\n",
            "215/215 [==============================] - 1s 6ms/step - loss: 0.0045 - acc: 0.9990 - val_loss: 0.3188 - val_acc: 0.9373\n",
            "Epoch 23/50\n",
            "215/215 [==============================] - 1s 6ms/step - loss: 0.0034 - acc: 0.9994 - val_loss: 0.2934 - val_acc: 0.9417\n",
            "Epoch 24/50\n",
            "215/215 [==============================] - 1s 6ms/step - loss: 0.0040 - acc: 0.9991 - val_loss: 0.3235 - val_acc: 0.9405\n",
            "Epoch 25/50\n",
            "215/215 [==============================] - 1s 6ms/step - loss: 0.0039 - acc: 0.9990 - val_loss: 0.3017 - val_acc: 0.9426\n",
            "Epoch 26/50\n",
            "215/215 [==============================] - 1s 6ms/step - loss: 0.0041 - acc: 0.9991 - val_loss: 0.3213 - val_acc: 0.9335\n",
            "Epoch 27/50\n",
            "215/215 [==============================] - 1s 6ms/step - loss: 0.0040 - acc: 0.9992 - val_loss: 0.3126 - val_acc: 0.9318\n",
            "Epoch 28/50\n",
            "215/215 [==============================] - 1s 6ms/step - loss: 0.0019 - acc: 0.9997 - val_loss: 0.2736 - val_acc: 0.9430\n",
            "Epoch 29/50\n",
            "215/215 [==============================] - 1s 6ms/step - loss: 0.0024 - acc: 0.9994 - val_loss: 0.3704 - val_acc: 0.9315\n",
            "Epoch 30/50\n",
            "215/215 [==============================] - 1s 6ms/step - loss: 0.0023 - acc: 0.9996 - val_loss: 0.3401 - val_acc: 0.9378\n",
            "Epoch 31/50\n",
            "215/215 [==============================] - 1s 7ms/step - loss: 0.0011 - acc: 0.9999 - val_loss: 0.3088 - val_acc: 0.9459\n",
            "Epoch 32/50\n",
            "215/215 [==============================] - 1s 7ms/step - loss: 0.0021 - acc: 0.9995 - val_loss: 0.3426 - val_acc: 0.9342\n",
            "Epoch 33/50\n",
            "215/215 [==============================] - 1s 6ms/step - loss: 0.0034 - acc: 0.9988 - val_loss: 0.3143 - val_acc: 0.9430\n",
            "Epoch 34/50\n",
            "215/215 [==============================] - 1s 7ms/step - loss: 0.0025 - acc: 0.9994 - val_loss: 0.3667 - val_acc: 0.9290\n",
            "Epoch 35/50\n",
            "215/215 [==============================] - 1s 6ms/step - loss: 0.0022 - acc: 0.9995 - val_loss: 0.3498 - val_acc: 0.9310\n",
            "Epoch 36/50\n",
            "215/215 [==============================] - 1s 6ms/step - loss: 0.0022 - acc: 0.9995 - val_loss: 0.3493 - val_acc: 0.9338\n",
            "Epoch 37/50\n",
            "215/215 [==============================] - 1s 6ms/step - loss: 0.0026 - acc: 0.9993 - val_loss: 0.3427 - val_acc: 0.9232\n",
            "Epoch 38/50\n",
            "215/215 [==============================] - 1s 6ms/step - loss: 0.0014 - acc: 0.9998 - val_loss: 0.3298 - val_acc: 0.9485\n",
            "Epoch 39/50\n",
            "215/215 [==============================] - 1s 7ms/step - loss: 0.0035 - acc: 0.9989 - val_loss: 0.3068 - val_acc: 0.9431\n",
            "Epoch 40/50\n",
            "215/215 [==============================] - 1s 7ms/step - loss: 0.0026 - acc: 0.9993 - val_loss: 0.3238 - val_acc: 0.9439\n",
            "Epoch 41/50\n",
            "215/215 [==============================] - 1s 7ms/step - loss: 0.0017 - acc: 0.9996 - val_loss: 0.3153 - val_acc: 0.9406\n",
            "Epoch 42/50\n",
            "215/215 [==============================] - 1s 7ms/step - loss: 0.0018 - acc: 0.9995 - val_loss: 0.3190 - val_acc: 0.9388\n",
            "Epoch 43/50\n",
            "215/215 [==============================] - 1s 7ms/step - loss: 0.0020 - acc: 0.9995 - val_loss: 0.3084 - val_acc: 0.9448\n",
            "Epoch 44/50\n",
            "215/215 [==============================] - 1s 7ms/step - loss: 0.0013 - acc: 0.9997 - val_loss: 0.3779 - val_acc: 0.9288\n",
            "Epoch 45/50\n",
            "215/215 [==============================] - 1s 6ms/step - loss: 0.0016 - acc: 0.9996 - val_loss: 0.3085 - val_acc: 0.9431\n",
            "Epoch 46/50\n",
            "215/215 [==============================] - 1s 7ms/step - loss: 0.0017 - acc: 0.9993 - val_loss: 0.3579 - val_acc: 0.9338\n",
            "Epoch 47/50\n",
            "215/215 [==============================] - 1s 6ms/step - loss: 9.8283e-04 - acc: 0.9997 - val_loss: 0.3234 - val_acc: 0.9490\n",
            "Epoch 48/50\n",
            "215/215 [==============================] - 1s 6ms/step - loss: 7.5958e-04 - acc: 0.9999 - val_loss: 0.3532 - val_acc: 0.9332\n",
            "Epoch 49/50\n",
            "215/215 [==============================] - 1s 6ms/step - loss: 0.0027 - acc: 0.9993 - val_loss: 0.3479 - val_acc: 0.9410\n",
            "Epoch 50/50\n",
            "215/215 [==============================] - 1s 6ms/step - loss: 0.0012 - acc: 0.9997 - val_loss: 0.2960 - val_acc: 0.9421\n"
          ]
        }
      ]
    },
    {
      "cell_type": "code",
      "source": [
        "\n",
        "\n",
        "#########################################################################\n",
        "### Model average / sum Ensemble\n",
        "# Simple sum of all outputs / predictions and argmax across all classes\n",
        "########\n",
        "from keras.models import load_model\n",
        "from sklearn.metrics import accuracy_score\n",
        "\n",
        "model1 = load_model('saved_models/model1.hdf5')\n",
        "model2 = load_model('saved_models/model2.hdf5')\n",
        "model3 = load_model('saved_models/model3.hdf5')\n",
        "\n",
        "models = [model1, model2, model3]\n",
        "\n",
        "preds = [model.predict(X_test) for model in models]\n",
        "preds=np.array(preds)\n",
        "summed = np.sum(preds, axis=0)\n"
      ],
      "metadata": {
        "id": "i6TDmrVsCLkl",
        "colab": {
          "base_uri": "https://localhost:8080/"
        },
        "outputId": "2720333a-c56a-4bab-8d6a-9a8470daa7d1"
      },
      "execution_count": null,
      "outputs": [
        {
          "output_type": "stream",
          "name": "stdout",
          "text": [
            "225/225 [==============================] - 1s 2ms/step\n",
            "225/225 [==============================] - 1s 2ms/step\n",
            "225/225 [==============================] - 0s 2ms/step\n"
          ]
        }
      ]
    },
    {
      "cell_type": "code",
      "source": [
        "\n",
        "# argmax across classes\n",
        "ensemble_prediction = np.argmax(summed, axis=1)\n",
        "\n",
        "\n",
        "\n",
        "prediction1 = np.argmax(model1.predict(X_test),axis=1)\n",
        "prediction2 = np.argmax(model2.predict(X_test),axis=1)\n",
        "prediction3 = np.argmax(model3.predict(X_test),axis=1)\n",
        "\n",
        "accuracy1 = accuracy_score(y_test, prediction1)\n",
        "accuracy2 = accuracy_score(y_test, prediction2)\n",
        "accuracy3 = accuracy_score(y_test, prediction3)\n",
        "ensemble_accuracy = accuracy_score(y_test, ensemble_prediction)\n",
        "\n",
        "print('Accuracy Score for model1 = ', accuracy1)\n",
        "print('Accuracy Score for model2 = ', accuracy2)\n",
        "print('Accuracy Score for model3 = ', accuracy3)\n",
        "print('Accuracy Score for average ensemble = ', ensemble_accuracy)"
      ],
      "metadata": {
        "id": "zuZJaWnBCQKt",
        "colab": {
          "base_uri": "https://localhost:8080/"
        },
        "outputId": "0f733c12-2eb4-4a4b-8d9c-87ca3ea32074"
      },
      "execution_count": null,
      "outputs": [
        {
          "output_type": "stream",
          "name": "stdout",
          "text": [
            "225/225 [==============================] - 0s 2ms/step\n",
            "225/225 [==============================] - 0s 2ms/step\n",
            "225/225 [==============================] - 0s 2ms/step\n",
            "Accuracy Score for model1 =  0.9535694366982711\n",
            "Accuracy Score for model2 =  0.89138315672058\n",
            "Accuracy Score for model3 =  0.9421360847741216\n",
            "Accuracy Score for average ensemble =  0.9687674288901282\n"
          ]
        }
      ]
    },
    {
      "cell_type": "code",
      "source": [
        "########################################\n",
        "#Weighted average ensemble\n",
        "models = [model1, model2, model3]\n",
        "preds = [model.predict(X_test) for model in models]\n",
        "preds=np.array(preds)\n",
        "weights = [0.4, 0.2, 0.4]\n",
        "\n",
        "#Use tensordot to sum the products of all elements over specified axes.\n",
        "weighted_preds = np.tensordot(preds, weights, axes=((0),(0)))\n",
        "weighted_ensemble_prediction = np.argmax(weighted_preds, axis=1)\n",
        "\n",
        "weighted_accuracy = accuracy_score(y_test, weighted_ensemble_prediction)\n",
        "\n",
        "print('Accuracy Score for model1 = ', accuracy1)\n",
        "print('Accuracy Score for model2 = ', accuracy2)\n",
        "print('Accuracy Score for model3 = ', accuracy3)\n",
        "print('Accuracy Score for average ensemble = ', ensemble_accuracy)\n",
        "print('Accuracy Score for weighted average ensemble = ', weighted_accuracy)\n"
      ],
      "metadata": {
        "id": "TF_j0tstCWrV",
        "colab": {
          "base_uri": "https://localhost:8080/"
        },
        "outputId": "25ca5808-2bd7-4583-9f78-ce24a44efc8d"
      },
      "execution_count": null,
      "outputs": [
        {
          "output_type": "stream",
          "name": "stdout",
          "text": [
            "225/225 [==============================] - 0s 2ms/step\n",
            "225/225 [==============================] - 0s 2ms/step\n",
            "225/225 [==============================] - 0s 2ms/step\n",
            "Accuracy Score for model1 =  0.9535694366982711\n",
            "Accuracy Score for model2 =  0.89138315672058\n",
            "Accuracy Score for model3 =  0.9421360847741216\n",
            "Accuracy Score for average ensemble =  0.9687674288901282\n",
            "Accuracy Score for weighted average ensemble =  0.9715560513106526\n"
          ]
        }
      ]
    },
    {
      "cell_type": "code",
      "source": [
        "\n",
        "########################################\n",
        "#Grid search for the best combination of w1, w2, w3 that gives maximum acuracy\n",
        "models = [model1, model2, model3]\n",
        "preds1 = [model.predict(X_test) for model in models]\n",
        "preds1=np.array(preds1)\n",
        "\n",
        "import pandas as pd\n",
        "df = pd.DataFrame([])\n",
        "\n",
        "for w1 in range(0, 5):\n",
        "    for w2 in range(0,5):\n",
        "        for w3 in range(0,5):\n",
        "            wts = [w1/10.,w2/10.,w3/10.]\n",
        "            wted_preds1 = np.tensordot(preds1, wts, axes=((0),(0)))\n",
        "            wted_ensemble_pred = np.argmax(wted_preds1, axis=1)\n",
        "            weighted_accuracy = accuracy_score(y_test, wted_ensemble_pred)\n",
        "            df = df.append(pd.DataFrame({'wt1':wts[0],'wt2':wts[1], \n",
        "                                         'wt3':wts[2], 'acc':weighted_accuracy*100}, index=[0]), ignore_index=True)\n",
        "            \n",
        "max_acc_row = df.iloc[df['acc'].idxmax()]\n",
        "print(\"Max accuracy of \", max_acc_row[0], \" obained with w1=\", max_acc_row[1],\n",
        "      \" w2=\", max_acc_row[2], \" and w3=\", max_acc_row[3])         \n",
        "\n",
        "\n"
      ],
      "metadata": {
        "id": "oxosJy22CY79",
        "colab": {
          "base_uri": "https://localhost:8080/"
        },
        "outputId": "c8574d32-b721-4571-8022-9cf9b0f6be8e"
      },
      "execution_count": null,
      "outputs": [
        {
          "output_type": "stream",
          "name": "stdout",
          "text": [
            "225/225 [==============================] - 0s 2ms/step\n",
            "225/225 [==============================] - 0s 2ms/step\n",
            "225/225 [==============================] - 0s 2ms/step\n",
            "Max accuracy of  0.4  obained with w1= 0.1  w2= 0.3  and w3= 97.42052426101506\n"
          ]
        }
      ]
    },
    {
      "cell_type": "code",
      "source": [
        "\n",
        "###########################################################################\n",
        "### Explore metrics for the ideal weighted ensemble model. \n",
        "\n",
        "models = [model1, model2, model3]\n",
        "preds = [model.predict(X_test) for model in models]\n",
        "preds=np.array(preds)\n",
        "ideal_weights = [0.4, 0.1, 0.2] "
      ],
      "metadata": {
        "id": "nWT6epOvCdst",
        "colab": {
          "base_uri": "https://localhost:8080/"
        },
        "outputId": "6e1bc59b-f4db-4ab5-e28c-fe5e24d75506"
      },
      "execution_count": null,
      "outputs": [
        {
          "output_type": "stream",
          "name": "stdout",
          "text": [
            "225/225 [==============================] - 0s 2ms/step\n",
            "225/225 [==============================] - 0s 2ms/step\n",
            "225/225 [==============================] - 0s 2ms/step\n"
          ]
        }
      ]
    },
    {
      "cell_type": "code",
      "source": [
        "\n",
        "\n",
        "\n",
        "#Use tensordot to sum the products of all elements over specified axes.\n",
        "ideal_weighted_preds = np.tensordot(preds, ideal_weights, axes=((0),(0)))\n",
        "ideal_weighted_ensemble_prediction = np.argmax(ideal_weighted_preds, axis=1)\n",
        "\n",
        "ideal_weighted_accuracy = accuracy_score(y_test, ideal_weighted_ensemble_prediction)\n",
        "\n",
        "\n",
        "\n",
        "i = random.randint(1,len(ideal_weighted_ensemble_prediction))\n",
        "plt.imshow(X_test[i,:,:,0]) \n",
        "print(\"Predicted Label: \", class_names[int(ideal_weighted_ensemble_prediction[i])])\n",
        "print(\"True Label: \", class_names[int(y_test[i])])\n",
        "\n",
        "from sklearn.metrics import confusion_matrix\n",
        "import seaborn as sns"
      ],
      "metadata": {
        "id": "1F7bk39kCiB1",
        "colab": {
          "base_uri": "https://localhost:8080/",
          "height": 314
        },
        "outputId": "03a6fd5b-9b13-47e3-b75f-fd8c4f9663a7"
      },
      "execution_count": null,
      "outputs": [
        {
          "output_type": "stream",
          "name": "stdout",
          "text": [
            "Predicted Label:  K\n",
            "True Label:  K\n"
          ]
        },
        {
          "output_type": "display_data",
          "data": {
            "text/plain": [
              "<Figure size 432x288 with 1 Axes>"
            ],
            "image/png": "[encoded data removed]"
          },
          "metadata": {}
        }
      ]
    },
    {
      "cell_type": "code",
      "source": [
        "\n",
        "#Print confusion matrix\n",
        "cm = confusion_matrix(y_test, ideal_weighted_ensemble_prediction)\n",
        "\n",
        "fig, ax = plt.subplots(figsize=(12,12))\n",
        "sns.set(font_scale=1.6)\n",
        "sns.heatmap(cm, annot=True, linewidths=.5, ax=ax)\n"
      ],
      "metadata": {
        "id": "SmFaPw4GCkTV",
        "colab": {
          "base_uri": "https://localhost:8080/",
          "height": 717
        },
        "outputId": "de9b335b-177a-4716-c40d-6721c4ba352b"
      },
      "execution_count": null,
      "outputs": [
        {
          "output_type": "execute_result",
          "data": {
            "text/plain": [
              "<matplotlib.axes._subplots.AxesSubplot at 0x7febfa9b2ac0>"
            ]
          },
          "metadata": {},
          "execution_count": 25
        },
        {
          "output_type": "display_data",
          "data": {
            "text/plain": [
              "<Figure size 864x864 with 2 Axes>"
            ],
            "image/png": "[encoded data removed]"
          },
          "metadata": {
            "needs_background": "light"
          }
        }
      ]
    },
    {
      "cell_type": "code",
      "source": [
        "\n",
        "\n",
        "#PLot fractional incorrect misclassifications\n",
        "incorr_fraction = 1 - np.diag(cm) / np.sum(cm, axis=1)\n",
        "fig, ax = plt.subplots(figsize=(12,12))\n",
        "plt.bar(np.arange(24), incorr_fraction)\n",
        "plt.xlabel('True Label')\n",
        "plt.ylabel('Fraction of incorrect predictions')\n",
        "plt.xticks(np.arange(24), class_names) \n",
        "\n",
        "\n"
      ],
      "metadata": {
        "id": "cm5WPKc8AYSX",
        "colab": {
          "base_uri": "https://localhost:8080/",
          "height": 1000
        },
        "outputId": "f224bd0e-e7f1-4e05-a1a9-5c97fac1c6f8"
      },
      "execution_count": null,
      "outputs": [
        {
          "output_type": "execute_result",
          "data": {
            "text/plain": [
              "([<matplotlib.axis.XTick at 0x7feca6542400>,\n",
              "  <matplotlib.axis.XTick at 0x7feca6542550>,\n",
              "  <matplotlib.axis.XTick at 0x7feca63d5e80>,\n",
              "  <matplotlib.axis.XTick at 0x7fed002b25b0>,\n",
              "  <matplotlib.axis.XTick at 0x7fed002a9b50>,\n",
              "  <matplotlib.axis.XTick at 0x7fec0342b8b0>,\n",
              "  <matplotlib.axis.XTick at 0x7fec0342b0d0>,\n",
              "  <matplotlib.axis.XTick at 0x7fec0342bdc0>,\n",
              "  <matplotlib.axis.XTick at 0x7fec02254040>,\n",
              "  <matplotlib.axis.XTick at 0x7fec0342ba00>,\n",
              "  <matplotlib.axis.XTick at 0x7fec021f43a0>,\n",
              "  <matplotlib.axis.XTick at 0x7fec021e0820>,\n",
              "  <matplotlib.axis.XTick at 0x7fec021e0310>,\n",
              "  <matplotlib.axis.XTick at 0x7fec021c9730>,\n",
              "  <matplotlib.axis.XTick at 0x7fec021c9ca0>,\n",
              "  <matplotlib.axis.XTick at 0x7fec021c9a30>,\n",
              "  <matplotlib.axis.XTick at 0x7fec021cc3a0>,\n",
              "  <matplotlib.axis.XTick at 0x7fec021c9c40>,\n",
              "  <matplotlib.axis.XTick at 0x7fec021e0730>,\n",
              "  <matplotlib.axis.XTick at 0x7fec0342bc70>,\n",
              "  <matplotlib.axis.XTick at 0x7fec021cc4f0>,\n",
              "  <matplotlib.axis.XTick at 0x7fec021cc0a0>,\n",
              "  <matplotlib.axis.XTick at 0x7fec0225ff40>,\n",
              "  <matplotlib.axis.XTick at 0x7fec0225f400>],\n",
              " [Text(0, 0, 'A'),\n",
              "  Text(0, 0, 'B'),\n",
              "  Text(0, 0, 'C'),\n",
              "  Text(0, 0, 'D'),\n",
              "  Text(0, 0, 'E'),\n",
              "  Text(0, 0, 'F'),\n",
              "  Text(0, 0, 'G'),\n",
              "  Text(0, 0, 'H'),\n",
              "  Text(0, 0, 'I'),\n",
              "  Text(0, 0, 'J'),\n",
              "  Text(0, 0, 'K'),\n",
              "  Text(0, 0, 'L'),\n",
              "  Text(0, 0, 'M'),\n",
              "  Text(0, 0, 'N'),\n",
              "  Text(0, 0, 'O'),\n",
              "  Text(0, 0, 'P'),\n",
              "  Text(0, 0, 'Q'),\n",
              "  Text(0, 0, 'R'),\n",
              "  Text(0, 0, 'S'),\n",
              "  Text(0, 0, 'T'),\n",
              "  Text(0, 0, 'U'),\n",
              "  Text(0, 0, 'V'),\n",
              "  Text(0, 0, 'W'),\n",
              "  Text(0, 0, 'X')])"
            ]
          },
          "metadata": {},
          "execution_count": 26
        },
        {
          "output_type": "display_data",
          "data": {
            "text/plain": [
              "<Figure size 864x864 with 1 Axes>"
            ],
            "image/png": "[encoded data removed]"
          },
          "metadata": {}
        }
      ]
    }
  ]
}